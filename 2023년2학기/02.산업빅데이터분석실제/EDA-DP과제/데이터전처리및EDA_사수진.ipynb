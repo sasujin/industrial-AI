{
 "cells": [
  {
   "attachments": {},
   "cell_type": "markdown",
   "metadata": {},
   "source": [
    "# Final Task(insurance.csv)"
   ]
  },
  {
   "cell_type": "code",
   "execution_count": 78,
   "metadata": {},
   "outputs": [],
   "source": [
    "import pandas as pd"
   ]
  },
  {
   "cell_type": "code",
   "execution_count": 80,
   "metadata": {},
   "outputs": [],
   "source": [
    "df = pd.read_csv(\"insurance.csv\")"
   ]
  },
  {
   "cell_type": "code",
   "execution_count": 81,
   "metadata": {},
   "outputs": [
    {
     "data": {
      "text/html": [
       "<div>\n",
       "<style scoped>\n",
       "    .dataframe tbody tr th:only-of-type {\n",
       "        vertical-align: middle;\n",
       "    }\n",
       "\n",
       "    .dataframe tbody tr th {\n",
       "        vertical-align: top;\n",
       "    }\n",
       "\n",
       "    .dataframe thead th {\n",
       "        text-align: right;\n",
       "    }\n",
       "</style>\n",
       "<table border=\"1\" class=\"dataframe\">\n",
       "  <thead>\n",
       "    <tr style=\"text-align: right;\">\n",
       "      <th></th>\n",
       "      <th>sex</th>\n",
       "      <th>bmi</th>\n",
       "      <th>children</th>\n",
       "      <th>smoker</th>\n",
       "      <th>region</th>\n",
       "      <th>charges</th>\n",
       "    </tr>\n",
       "  </thead>\n",
       "  <tbody>\n",
       "    <tr>\n",
       "      <th>0</th>\n",
       "      <td>female</td>\n",
       "      <td>27.900</td>\n",
       "      <td>0</td>\n",
       "      <td>yes</td>\n",
       "      <td>southwest</td>\n",
       "      <td>16884.92400</td>\n",
       "    </tr>\n",
       "    <tr>\n",
       "      <th>1</th>\n",
       "      <td>male</td>\n",
       "      <td>33.770</td>\n",
       "      <td>1</td>\n",
       "      <td>no</td>\n",
       "      <td>southeast</td>\n",
       "      <td>1725.55230</td>\n",
       "    </tr>\n",
       "    <tr>\n",
       "      <th>2</th>\n",
       "      <td>male</td>\n",
       "      <td>33.000</td>\n",
       "      <td>3</td>\n",
       "      <td>no</td>\n",
       "      <td>southeast</td>\n",
       "      <td>4449.46200</td>\n",
       "    </tr>\n",
       "    <tr>\n",
       "      <th>3</th>\n",
       "      <td>male</td>\n",
       "      <td>22.705</td>\n",
       "      <td>0</td>\n",
       "      <td>no</td>\n",
       "      <td>northwest</td>\n",
       "      <td>21984.47061</td>\n",
       "    </tr>\n",
       "    <tr>\n",
       "      <th>4</th>\n",
       "      <td>male</td>\n",
       "      <td>28.880</td>\n",
       "      <td>0</td>\n",
       "      <td>no</td>\n",
       "      <td>northwest</td>\n",
       "      <td>3866.85520</td>\n",
       "    </tr>\n",
       "  </tbody>\n",
       "</table>\n",
       "</div>"
      ],
      "text/plain": [
       "      sex     bmi  children smoker     region      charges\n",
       "0  female  27.900         0    yes  southwest  16884.92400\n",
       "1    male  33.770         1     no  southeast   1725.55230\n",
       "2    male  33.000         3     no  southeast   4449.46200\n",
       "3    male  22.705         0     no  northwest  21984.47061\n",
       "4    male  28.880         0     no  northwest   3866.85520"
      ]
     },
     "execution_count": 81,
     "metadata": {},
     "output_type": "execute_result"
    }
   ],
   "source": [
    "# 1.불필요한 \"Number\"열 제거하기\n",
    "df.drop(columns=[\"age\"], inplace=True)\n",
    "df.head(5)\n"
   ]
  },
  {
   "cell_type": "code",
   "execution_count": 82,
   "metadata": {},
   "outputs": [
    {
     "name": "stdout",
     "output_type": "stream",
     "text": [
      "중복된 행:\n",
      "      sex    bmi  children smoker     region    charges\n",
      "581  male  30.59         0     no  northwest  1639.5631\n"
     ]
    }
   ],
   "source": [
    "# 2.중복 데이터 찾기 및 제거하기\n",
    "# 중복된 행 찾기\n",
    "duplicate_rows = df[df.duplicated()]\n",
    "\n",
    "# 중복된 행 출력\n",
    "print(\"중복된 행:\")\n",
    "print(duplicate_rows)\n",
    "\n",
    "# 중복된 행 제거하기\n",
    "df = df.drop_duplicates()"
   ]
  },
  {
   "cell_type": "code",
   "execution_count": 83,
   "metadata": {},
   "outputs": [
    {
     "name": "stdout",
     "output_type": "stream",
     "text": [
      "각 열의 null 값 개수:\n",
      "sex         0\n",
      "bmi         0\n",
      "children    0\n",
      "smoker      0\n",
      "region      0\n",
      "charges     0\n",
      "dtype: int64\n"
     ]
    }
   ],
   "source": [
    "# 3.Null 값 제거\n",
    "# 각 열에 대한 null 값의 개수 확인하기\n",
    "null_counts = df.isnull().sum()\n",
    "\n",
    "# null 값이 포함된 열 출력하기\n",
    "print(\"각 열의 null 값 개수:\")\n",
    "print(null_counts)"
   ]
  },
  {
   "cell_type": "code",
   "execution_count": 84,
   "metadata": {},
   "outputs": [
    {
     "name": "stdout",
     "output_type": "stream",
     "text": [
      "  sex_modify     bmi  children smoker     region      charges\n",
      "0     female  27.900         0    yes  southwest  16884.92400\n",
      "1       male  33.770         1     no  southeast   1725.55230\n",
      "2       male  33.000         3     no  southeast   4449.46200\n",
      "3       male  22.705         0     no  northwest  21984.47061\n",
      "4       male  28.880         0     no  northwest   3866.85520\n"
     ]
    }
   ],
   "source": [
    "# 4.rename() 이용하여 열 이름 바꾸기\n",
    "# sex 열을 sex_modify 이름 바꾸기\n",
    "df.rename(columns={\"sex\": \"sex_modify\"}, inplace=True)\n",
    "\n",
    "# 변경된 열 이름을 포함한 DataFrame 출력하기\n",
    "print(df.head())"
   ]
  },
  {
   "cell_type": "code",
   "execution_count": 85,
   "metadata": {},
   "outputs": [
    {
     "name": "stdout",
     "output_type": "stream",
     "text": [
      "  sex_modify     bmi  children smoker     region      charges\n",
      "0     female  27.900         0    yes  southwest  16884.92400\n",
      "1       male  33.770      1111     no  southeast   1725.55230\n",
      "2       male  33.000         3     no  southeast   4449.46200\n",
      "3       male  22.705         0     no  northwest  21984.47061\n",
      "4       male  28.880         0     no  northwest   3866.85520\n"
     ]
    }
   ],
   "source": [
    "# 5.replace() 이용하여 행 값 바꾸기\n",
    "# \"children\" 열에서 특정 값(1)을 찾아 \"1111\"로 대체하기\n",
    "df[\"children\"].replace(to_replace=1, value=1111, inplace=True)\n",
    "\n",
    "# 변경된 열 값을 포함한 DataFrame 출력하기\n",
    "print(df.head())"
   ]
  },
  {
   "cell_type": "code",
   "execution_count": 86,
   "metadata": {},
   "outputs": [
    {
     "data": {
      "image/png": "[encoded data removed]",
      "text/plain": [
       "<Figure size 640x480 with 1 Axes>"
      ]
     },
     "metadata": {},
     "output_type": "display_data"
    }
   ],
   "source": [
    "# 6.이상 값 처리\n",
    "import seaborn as sns\n",
    "\n",
    "sns.boxplot(y = df['bmi'] );\n"
   ]
  },
  {
   "cell_type": "code",
   "execution_count": 87,
   "metadata": {},
   "outputs": [
    {
     "name": "stdout",
     "output_type": "stream",
     "text": [
      "  sex_modify       bmi  children smoker     region   charges\n",
      "0     female  0.321227    0.0000    yes  southwest  0.251611\n",
      "1       male  0.479150    1.0000     no  southeast  0.009636\n",
      "2       male  0.458434    0.0027     no  southeast  0.053115\n",
      "3       male  0.181464    0.0000     no  northwest  0.333010\n",
      "4       male  0.347592    0.0000     no  northwest  0.043816\n"
     ]
    }
   ],
   "source": [
    "# 7.Min-Max 방법을 이용하여 데이터 정규화\n",
    "from sklearn.preprocessing import MinMaxScaler\n",
    "# 정규화할 열 선택 (예: 'children', 'bmi', 'charges' 열을 정규화하려면 아래 리스트에 추가)\n",
    "columns_to_normalize = [\"children\", \"bmi\", \"charges\"]\n",
    "\n",
    "# Min-Max 정규화 객체 생성\n",
    "scaler = MinMaxScaler()\n",
    "\n",
    "# 선택한 열에 Min-Max 정규화 적용\n",
    "df[columns_to_normalize] = scaler.fit_transform(df[columns_to_normalize])\n",
    "\n",
    "# 정규화된 데이터프레임 출력\n",
    "print(df.head())"
   ]
  },
  {
   "cell_type": "code",
   "execution_count": 88,
   "metadata": {},
   "outputs": [
    {
     "name": "stdout",
     "output_type": "stream",
     "text": [
      "        bmi   charges\n",
      "0  0.321227  0.251611\n",
      "1  0.479150  0.009636\n",
      "2  0.458434  0.053115\n",
      "3  0.181464  0.333010\n",
      "4  0.347592  0.043816\n"
     ]
    }
   ],
   "source": [
    "# 8.'charges' 컬럼과 상관 관계가 없는 컬럼 삭제\n",
    "\n",
    "# 불필요한 \"String\"열 제거하기\n",
    "df.drop(columns=[\"sex_modify\",\"smoker\",\"region\"], inplace=True)\n",
    "df.head(5)\n",
    "\n",
    "# 'charges' 컬럼과의 상관 관계 계산\n",
    "correlations = df.drop(columns=['charges']).corrwith(df['charges'])\n",
    "\n",
    "# 상관 관계가 낮은 컬럼 선택 (예: 0.1 이하의 상관 관계를 갖는 컬럼을 삭제하려면 threshold 값을 조절)\n",
    "threshold = 0.1\n",
    "low_correlation_cols = correlations[abs(correlations) < threshold].index\n",
    "\n",
    "# 선택한 컬럼 삭제\n",
    "df.drop(columns=low_correlation_cols, inplace=True)\n",
    "\n",
    "# 변경된 데이터프레임을 출력하거나 저장할 수 있음\n",
    "print(df.head())"
   ]
  }
 ],
 "metadata": {
  "anaconda-cloud": {},
  "kernelspec": {
   "display_name": "Python 3",
   "language": "python",
   "name": "python3"
  },
  "language_info": {
   "codemirror_mode": {
    "name": "ipython",
    "version": 3
   },
   "file_extension": ".py",
   "mimetype": "text/x-python",
   "name": "python",
   "nbconvert_exporter": "python",
   "pygments_lexer": "ipython3",
   "version": "3.12.0"
  },
  "vscode": {
   "interpreter": {
    "hash": "369f2c481f4da34e4445cda3fffd2e751bd1c4d706f27375911949ba6bb62e1c"
   }
  }
 },
 "nbformat": 4,
 "nbformat_minor": 4
}
